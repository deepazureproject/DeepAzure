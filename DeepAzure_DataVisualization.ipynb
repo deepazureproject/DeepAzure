{
 "cells": [
  {
   "cell_type": "code",
   "execution_count": 1,
   "metadata": {
    "collapsed": true
   },
   "outputs": [],
   "source": [
    "# Import libaries\n",
    "import pandas as pd\n",
    "pd.set_option(\"display.max_rows\",10)\n",
    "from  pandas.plotting import scatter_matrix\n",
    "import matplotlib.pyplot as plt\n",
    "import numpy as np"
   ]
  },
  {
   "cell_type": "code",
   "execution_count": 2,
   "metadata": {
    "collapsed": true
   },
   "outputs": [],
   "source": [
    "#Enable IPython to display matplotlib graphs.\n",
    "%matplotlib inline"
   ]
  },
  {
   "cell_type": "code",
   "execution_count": 3,
   "metadata": {
    "collapsed": true
   },
   "outputs": [],
   "source": [
    "# Load the input assessment_file\n",
    "assessment_file = 'C:\\deepazure\\ssma_assesment.csv'\n",
    "assessment = pd.read_csv(assessment_file)"
   ]
  },
  {
   "cell_type": "code",
   "execution_count": 4,
   "metadata": {
    "scrolled": true
   },
   "outputs": [
    {
     "data": {
      "text/html": [
       "<div>\n",
       "<style>\n",
       "    .dataframe thead tr:only-child th {\n",
       "        text-align: right;\n",
       "    }\n",
       "\n",
       "    .dataframe thead th {\n",
       "        text-align: left;\n",
       "    }\n",
       "\n",
       "    .dataframe tbody tr th {\n",
       "        vertical-align: top;\n",
       "    }\n",
       "</style>\n",
       "<table border=\"1\" class=\"dataframe\">\n",
       "  <thead>\n",
       "    <tr style=\"text-align: right;\">\n",
       "      <th></th>\n",
       "      <th>ObjectType</th>\n",
       "      <th>Total</th>\n",
       "      <th>WithErrors</th>\n",
       "    </tr>\n",
       "  </thead>\n",
       "  <tbody>\n",
       "    <tr>\n",
       "      <th>0</th>\n",
       "      <td>Function</td>\n",
       "      <td>10</td>\n",
       "      <td>0</td>\n",
       "    </tr>\n",
       "    <tr>\n",
       "      <th>1</th>\n",
       "      <td>Table</td>\n",
       "      <td>16</td>\n",
       "      <td>0</td>\n",
       "    </tr>\n",
       "    <tr>\n",
       "      <th>2</th>\n",
       "      <td>Index</td>\n",
       "      <td>15</td>\n",
       "      <td>0</td>\n",
       "    </tr>\n",
       "    <tr>\n",
       "      <th>3</th>\n",
       "      <td>View</td>\n",
       "      <td>14</td>\n",
       "      <td>5</td>\n",
       "    </tr>\n",
       "    <tr>\n",
       "      <th>4</th>\n",
       "      <td>Schema</td>\n",
       "      <td>1</td>\n",
       "      <td>1</td>\n",
       "    </tr>\n",
       "  </tbody>\n",
       "</table>\n",
       "</div>"
      ],
      "text/plain": [
       "  ObjectType  Total  WithErrors\n",
       "0   Function     10           0\n",
       "1      Table     16           0\n",
       "2      Index     15           0\n",
       "3       View     14           5\n",
       "4     Schema      1           1"
      ]
     },
     "execution_count": 4,
     "metadata": {},
     "output_type": "execute_result"
    }
   ],
   "source": [
    "# View assessment data.\n",
    "assessment"
   ]
  },
  {
   "cell_type": "code",
   "execution_count": 5,
   "metadata": {},
   "outputs": [
    {
     "data": {
      "text/plain": [
       "<matplotlib.text.Text at 0xa74c7b8>"
      ]
     },
     "execution_count": 5,
     "metadata": {},
     "output_type": "execute_result"
    },
    {
     "data": {
      "image/png": "[encoded data removed]",
      "text/plain": [
       "<matplotlib.figure.Figure at 0xa5f2e48>"
      ]
     },
     "metadata": {},
     "output_type": "display_data"
    }
   ],
   "source": [
    "# Plot the assesment data in bar-chart\n",
    "assessment_plot = assessment.plot(x='ObjectType',figsize=(10,6),kind='bar',stacked=True,title=\"Migration Assessment Results\")\n",
    "assessment_plot.set_ylabel(\"Counts\")"
   ]
  },
  {
   "cell_type": "code",
   "execution_count": 6,
   "metadata": {
    "collapsed": true
   },
   "outputs": [],
   "source": [
    "# Load the input migrationdat_file\n",
    "migrationdat_file = 'C:\\deepazure\\DataMigrationReport.csv'\n",
    "migrationdat = pd.read_csv(migrationdat_file, sep='\\t',parse_dates=True)"
   ]
  },
  {
   "cell_type": "code",
   "execution_count": 7,
   "metadata": {},
   "outputs": [
    {
     "data": {
      "text/html": [
       "<div>\n",
       "<style>\n",
       "    .dataframe thead tr:only-child th {\n",
       "        text-align: right;\n",
       "    }\n",
       "\n",
       "    .dataframe thead th {\n",
       "        text-align: left;\n",
       "    }\n",
       "\n",
       "    .dataframe tbody tr th {\n",
       "        vertical-align: top;\n",
       "    }\n",
       "</style>\n",
       "<table border=\"1\" class=\"dataframe\">\n",
       "  <thead>\n",
       "    <tr style=\"text-align: right;\">\n",
       "      <th></th>\n",
       "      <th>Status</th>\n",
       "      <th>From-Table</th>\n",
       "      <th>To-Table</th>\n",
       "      <th>Total-Rows</th>\n",
       "      <th>Migrated-Rows</th>\n",
       "      <th>Success-Rate</th>\n",
       "      <th>Duration(DD:HH:MM:SS:MS)</th>\n",
       "      <th>Error-Messages</th>\n",
       "    </tr>\n",
       "  </thead>\n",
       "  <tbody>\n",
       "    <tr>\n",
       "      <th>0</th>\n",
       "      <td>Completed</td>\n",
       "      <td>DSODB.\"HOST\"</td>\n",
       "      <td>[deepazr05-db].[DSODB].[HOST]</td>\n",
       "      <td>3</td>\n",
       "      <td>3</td>\n",
       "      <td>100.00 %</td>\n",
       "      <td>00:00:00:06:771</td>\n",
       "      <td>NaN</td>\n",
       "    </tr>\n",
       "    <tr>\n",
       "      <th>1</th>\n",
       "      <td>Completed</td>\n",
       "      <td>DSODB.\"HOSTDETAIL\"</td>\n",
       "      <td>[deepazr05-db].[DSODB].[HOSTDETAIL]</td>\n",
       "      <td>20</td>\n",
       "      <td>20</td>\n",
       "      <td>100.00 %</td>\n",
       "      <td>00:00:00:07:319</td>\n",
       "      <td>NaN</td>\n",
       "    </tr>\n",
       "    <tr>\n",
       "      <th>2</th>\n",
       "      <td>Completed</td>\n",
       "      <td>DSODB.\"PARALLELCONFIG\"</td>\n",
       "      <td>[deepazr05-db].[DSODB].[PARALLELCONFIG]</td>\n",
       "      <td>4</td>\n",
       "      <td>4</td>\n",
       "      <td>100.00 %</td>\n",
       "      <td>00:00:00:07:707</td>\n",
       "      <td>NaN</td>\n",
       "    </tr>\n",
       "    <tr>\n",
       "      <th>3</th>\n",
       "      <td>Completed</td>\n",
       "      <td>DSODB.\"JOBLINK\"</td>\n",
       "      <td>[deepazr05-db].[DSODB].[JOBLINK]</td>\n",
       "      <td>22615</td>\n",
       "      <td>22626</td>\n",
       "      <td>100.05 %</td>\n",
       "      <td>00:00:33:09:567</td>\n",
       "      <td>NaN</td>\n",
       "    </tr>\n",
       "    <tr>\n",
       "      <th>4</th>\n",
       "      <td>Completed</td>\n",
       "      <td>DSODB.\"MASTERREF\"</td>\n",
       "      <td>[deepazr05-db].[DSODB].[MASTERREF]</td>\n",
       "      <td>49</td>\n",
       "      <td>49</td>\n",
       "      <td>100.00 %</td>\n",
       "      <td>00:00:00:06:334</td>\n",
       "      <td>NaN</td>\n",
       "    </tr>\n",
       "    <tr>\n",
       "      <th>5</th>\n",
       "      <td>Completed</td>\n",
       "      <td>DSODB.\"RESOURCESNAP\"</td>\n",
       "      <td>[deepazr05-db].[DSODB].[RESOURCESNAP]</td>\n",
       "      <td>3</td>\n",
       "      <td>3</td>\n",
       "      <td>100.00 %</td>\n",
       "      <td>00:00:00:07:331</td>\n",
       "      <td>NaN</td>\n",
       "    </tr>\n",
       "  </tbody>\n",
       "</table>\n",
       "</div>"
      ],
      "text/plain": [
       "      Status              From-Table                                 To-Table  \\\n",
       "0  Completed            DSODB.\"HOST\"            [deepazr05-db].[DSODB].[HOST]   \n",
       "1  Completed      DSODB.\"HOSTDETAIL\"      [deepazr05-db].[DSODB].[HOSTDETAIL]   \n",
       "2  Completed  DSODB.\"PARALLELCONFIG\"  [deepazr05-db].[DSODB].[PARALLELCONFIG]   \n",
       "3  Completed         DSODB.\"JOBLINK\"         [deepazr05-db].[DSODB].[JOBLINK]   \n",
       "4  Completed       DSODB.\"MASTERREF\"       [deepazr05-db].[DSODB].[MASTERREF]   \n",
       "5  Completed    DSODB.\"RESOURCESNAP\"    [deepazr05-db].[DSODB].[RESOURCESNAP]   \n",
       "\n",
       "   Total-Rows  Migrated-Rows Success-Rate Duration(DD:HH:MM:SS:MS)  \\\n",
       "0           3              3     100.00 %          00:00:00:06:771   \n",
       "1          20             20     100.00 %          00:00:00:07:319   \n",
       "2           4              4     100.00 %          00:00:00:07:707   \n",
       "3       22615          22626     100.05 %          00:00:33:09:567   \n",
       "4          49             49     100.00 %          00:00:00:06:334   \n",
       "5           3              3     100.00 %          00:00:00:07:331   \n",
       "\n",
       "   Error-Messages  \n",
       "0             NaN  \n",
       "1             NaN  \n",
       "2             NaN  \n",
       "3             NaN  \n",
       "4             NaN  \n",
       "5             NaN  "
      ]
     },
     "execution_count": 7,
     "metadata": {},
     "output_type": "execute_result"
    }
   ],
   "source": [
    "migrationdat"
   ]
  },
  {
   "cell_type": "code",
   "execution_count": 8,
   "metadata": {
    "collapsed": true
   },
   "outputs": [],
   "source": [
    "#Extract selected columns from migrationdat\n",
    "migrationrpt = migrationdat[['To-Table','Total-Rows','Migrated-Rows']]"
   ]
  },
  {
   "cell_type": "code",
   "execution_count": 9,
   "metadata": {},
   "outputs": [
    {
     "data": {
      "text/html": [
       "<div>\n",
       "<style>\n",
       "    .dataframe thead tr:only-child th {\n",
       "        text-align: right;\n",
       "    }\n",
       "\n",
       "    .dataframe thead th {\n",
       "        text-align: left;\n",
       "    }\n",
       "\n",
       "    .dataframe tbody tr th {\n",
       "        vertical-align: top;\n",
       "    }\n",
       "</style>\n",
       "<table border=\"1\" class=\"dataframe\">\n",
       "  <thead>\n",
       "    <tr style=\"text-align: right;\">\n",
       "      <th></th>\n",
       "      <th>To-Table</th>\n",
       "      <th>Total-Rows</th>\n",
       "      <th>Migrated-Rows</th>\n",
       "    </tr>\n",
       "  </thead>\n",
       "  <tbody>\n",
       "    <tr>\n",
       "      <th>0</th>\n",
       "      <td>[deepazr05-db].[DSODB].[HOST]</td>\n",
       "      <td>3</td>\n",
       "      <td>3</td>\n",
       "    </tr>\n",
       "    <tr>\n",
       "      <th>1</th>\n",
       "      <td>[deepazr05-db].[DSODB].[HOSTDETAIL]</td>\n",
       "      <td>20</td>\n",
       "      <td>20</td>\n",
       "    </tr>\n",
       "    <tr>\n",
       "      <th>2</th>\n",
       "      <td>[deepazr05-db].[DSODB].[PARALLELCONFIG]</td>\n",
       "      <td>4</td>\n",
       "      <td>4</td>\n",
       "    </tr>\n",
       "    <tr>\n",
       "      <th>3</th>\n",
       "      <td>[deepazr05-db].[DSODB].[JOBLINK]</td>\n",
       "      <td>22615</td>\n",
       "      <td>22626</td>\n",
       "    </tr>\n",
       "    <tr>\n",
       "      <th>4</th>\n",
       "      <td>[deepazr05-db].[DSODB].[MASTERREF]</td>\n",
       "      <td>49</td>\n",
       "      <td>49</td>\n",
       "    </tr>\n",
       "    <tr>\n",
       "      <th>5</th>\n",
       "      <td>[deepazr05-db].[DSODB].[RESOURCESNAP]</td>\n",
       "      <td>3</td>\n",
       "      <td>3</td>\n",
       "    </tr>\n",
       "  </tbody>\n",
       "</table>\n",
       "</div>"
      ],
      "text/plain": [
       "                                  To-Table  Total-Rows  Migrated-Rows\n",
       "0            [deepazr05-db].[DSODB].[HOST]           3              3\n",
       "1      [deepazr05-db].[DSODB].[HOSTDETAIL]          20             20\n",
       "2  [deepazr05-db].[DSODB].[PARALLELCONFIG]           4              4\n",
       "3         [deepazr05-db].[DSODB].[JOBLINK]       22615          22626\n",
       "4       [deepazr05-db].[DSODB].[MASTERREF]          49             49\n",
       "5    [deepazr05-db].[DSODB].[RESOURCESNAP]           3              3"
      ]
     },
     "execution_count": 9,
     "metadata": {},
     "output_type": "execute_result"
    }
   ],
   "source": [
    "# View migration report data.\n",
    "migrationrpt"
   ]
  },
  {
   "cell_type": "code",
   "execution_count": 10,
   "metadata": {},
   "outputs": [
    {
     "data": {
      "text/plain": [
       "<matplotlib.text.Text at 0xa98c0b8>"
      ]
     },
     "execution_count": 10,
     "metadata": {},
     "output_type": "execute_result"
    },
    {
     "data": {
      "image/png": "[encoded data removed]",
      "text/plain": [
       "<matplotlib.figure.Figure at 0xa960e80>"
      ]
     },
     "metadata": {},
     "output_type": "display_data"
    }
   ],
   "source": [
    "# Plot the assesment data in bar-chart\n",
    "migrationrpt_plot = migrationrpt.plot(x='To-Table',figsize=(14,5),kind='barh',stacked=False,title=\"Data Migration Results\")\n",
    "migrationrpt_plot.set_xlabel(\"Row Counts\")"
   ]
  },
  {
   "cell_type": "code",
   "execution_count": 11,
   "metadata": {
    "collapsed": true
   },
   "outputs": [],
   "source": [
    "#Drop row for DSODB].[JOBLINK], as its latge value is hiding visualization for other tables\n",
    "migrationrpt = migrationrpt.drop(migrationrpt.index[3])"
   ]
  },
  {
   "cell_type": "code",
   "execution_count": 12,
   "metadata": {},
   "outputs": [
    {
     "data": {
      "text/plain": [
       "<matplotlib.text.Text at 0xaafdc88>"
      ]
     },
     "execution_count": 12,
     "metadata": {},
     "output_type": "execute_result"
    },
    {
     "data": {
      "image/png": "[encoded data removed]",
      "text/plain": [
       "<matplotlib.figure.Figure at 0xb16c710>"
      ]
     },
     "metadata": {},
     "output_type": "display_data"
    }
   ],
   "source": [
    "# Plot the assesment data in bar-chart\n",
    "migrationrpt_plot = migrationrpt.plot(x='To-Table',figsize=(20,9),kind='barh',stacked=False,title=\"Data Migration Results\")\n",
    "migrationrpt_plot.set_xlabel(\"Row Counts\")"
   ]
  },
  {
   "cell_type": "code",
   "execution_count": 13,
   "metadata": {
    "collapsed": true
   },
   "outputs": [],
   "source": [
    "#End of Program."
   ]
  }
 ],
 "metadata": {
  "kernelspec": {
   "display_name": "Python 2",
   "language": "python",
   "name": "python2"
  },
  "language_info": {
   "codemirror_mode": {
    "name": "ipython",
    "version": 2
   },
   "file_extension": ".py",
   "mimetype": "text/x-python",
   "name": "python",
   "nbconvert_exporter": "python",
   "pygments_lexer": "ipython2",
   "version": "2.7.13"
  }
 },
 "nbformat": 4,
 "nbformat_minor": 2
}
